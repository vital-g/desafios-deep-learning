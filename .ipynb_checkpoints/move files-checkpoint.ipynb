{
 "cells": [
  {
   "cell_type": "markdown",
   "metadata": {},
   "source": [
    "Arquivo suado para formatar os dados da maneira que foram raspados pelo crawler"
   ]
  },
  {
   "cell_type": "code",
   "execution_count": null,
   "metadata": {},
   "outputs": [],
   "source": [
    "from os import listdir, makedirs\n",
    "from shutil import copyfile, move\n",
    "from random import seed\n",
    "from random import random"
   ]
  },
  {
   "cell_type": "code",
   "execution_count": null,
   "metadata": {},
   "outputs": [],
   "source": [
    "# cria o diretorio datasets onde estarão as fotos que o modelo usará\n",
    "from os import makedirs\n",
    "dataset_home = 'dataset/'\n",
    "makedirs(dataset_home, exist_ok=True)\n",
    "subdirs = ['train/', 'test/']\n",
    "for f in subdirs:\n",
    "    newdir = dataset_home + f\n",
    "    makedirs(newdir, exist_ok=True)\n",
    "for subdir in subdirs:\n",
    "    # create label subdirectories\n",
    "    labeldirs = ['tap', 'klm/']\n",
    "    for labldir in labeldirs:\n",
    "        newdir = dataset_home + subdir + labldir\n",
    "        makedirs(newdir, exist_ok=True)"
   ]
  },
  {
   "cell_type": "code",
   "execution_count": null,
   "metadata": {},
   "outputs": [],
   "source": [
    "#altere n_photos para o numero que achar mais adequado\n",
    "\n",
    "val_ratio = 0.30 # proporcao de test/(train + test)\n",
    "n_photos = 8000 #numero de fotos a serem transferidas de cada empresa\n",
    "src_dir = 'raw-images/'\n",
    "dst_dir = 'dataset/'\n",
    "labels = ['klm/', 'tap/']\n",
    "for l in labels:\n",
    "    directory = src_dir + l\n",
    "    for (i,f) in enumerate(listdir(directory)):\n",
    "        if random() < val_ratio:\n",
    "            dst_sub_dir = dst_dir + 'test/' + l\n",
    "        else:\n",
    "            dst_sub_dir = dst_dir + 'train/' + l\n",
    "        move(directory + f,dst_sub_dir + f)\n",
    "        if i>=n_photos:\n",
    "            break"
   ]
  }
 ],
 "metadata": {
  "kernelspec": {
   "display_name": "Python 3",
   "language": "python",
   "name": "python3"
  },
  "language_info": {
   "codemirror_mode": {
    "name": "ipython",
    "version": 3
   },
   "file_extension": ".py",
   "mimetype": "text/x-python",
   "name": "python",
   "nbconvert_exporter": "python",
   "pygments_lexer": "ipython3",
   "version": "3.7.4"
  }
 },
 "nbformat": 4,
 "nbformat_minor": 2
}
