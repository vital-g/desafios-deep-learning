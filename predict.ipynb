{
 "cells": [
  {
   "cell_type": "markdown",
   "metadata": {},
   "source": [
    "# Fazendo a predição de um conjunto de fotos"
   ]
  },
  {
   "cell_type": "code",
   "execution_count": 1,
   "metadata": {},
   "outputs": [],
   "source": [
    "# primeiro vamos improtar as bibliotecas necessarias\n",
    "from tensorflow.keras.preprocessing.image import load_img\n",
    "from tensorflow.keras.preprocessing.image import img_to_array\n",
    "from tensorflow.keras.models import load_model\n",
    "import matplotlib.pyplot as plt\n",
    "from os import listdir, makedirs\n",
    "from shutil import move\n"
   ]
  },
  {
   "cell_type": "markdown",
   "metadata": {},
   "source": [
    "## defina o caminho para o folder contendo as fotos que deseja classificar"
   ]
  },
  {
   "cell_type": "code",
   "execution_count": 2,
   "metadata": {},
   "outputs": [],
   "source": [
    "#defina o caminho para o seu folder desejado e rode todo o notebook\n",
    "dataset = 'path/to/your/sample'\n",
    "\n",
    "#é um pequeno dataset onde teste a capacidade do robo de fazer previsões em fotos num folder data\n",
    "#você pode testa-lo apenas descomentando essa linha\n",
    "#dataset = 'pred'"
   ]
  },
  {
   "cell_type": "code",
   "execution_count": 3,
   "metadata": {},
   "outputs": [],
   "source": [
    "# cria no reposito onde que você definiu, dois folders (tap e klm) para onde ele irá tranferir as fotos\n",
    "\n",
    "labels = ['/klm', '/tap']\n",
    "for l in  labels:\n",
    "    makedirs(dataset + l, exist_ok = True)"
   ]
  },
  {
   "cell_type": "code",
   "execution_count": 7,
   "metadata": {},
   "outputs": [],
   "source": [
    "# load and prepare the image\n",
    "def load_image(filename):\n",
    "    # load the image\n",
    "    img = load_img(filename, target_size=(224, 224))\n",
    "    # convert to array\n",
    "    img = img_to_array(img)\n",
    "    # reshape into a single sample with 3 channels\n",
    "    img = img.reshape(1, 224, 224, 3)\n",
    "    # center pixel data\n",
    "    img = img.astype('float32')\n",
    "    return img\n",
    "\n",
    "# load model\n",
    "model_name = listdir('model/final_model/')[0]\n",
    "model = load_model('model/final_model/' + model_name)"
   ]
  },
  {
   "cell_type": "code",
   "execution_count": 11,
   "metadata": {},
   "outputs": [],
   "source": [
    "# load the image\n",
    "for f in listdir(dataset):\n",
    "    if f == 'tap' or f == 'klm':\n",
    "        continue\n",
    "    img = load_image(dataset + '/' +  f)\n",
    "\n",
    "\n",
    "    # predict the class\n",
    "    result = model.predict(img)\n",
    "\n",
    "    if result[0][0] > 0.5:\n",
    "        move(dataset +'/' + f,dataset + '/tap/' + f)\n",
    "    else:\n",
    "        move(dataset + '/' + f,dataset + '/klm/' + f)"
   ]
  }
 ],
 "metadata": {
  "kernelspec": {
   "display_name": "Python 3",
   "language": "python",
   "name": "python3"
  },
  "language_info": {
   "codemirror_mode": {
    "name": "ipython",
    "version": 3
   },
   "file_extension": ".py",
   "mimetype": "text/x-python",
   "name": "python",
   "nbconvert_exporter": "python",
   "pygments_lexer": "ipython3",
   "version": "3.7.6"
  }
 },
 "nbformat": 4,
 "nbformat_minor": 4
}
